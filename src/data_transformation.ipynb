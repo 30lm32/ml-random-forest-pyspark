{
 "cells": [
  {
   "cell_type": "code",
   "execution_count": 7,
   "metadata": {
    "collapsed": true
   },
   "outputs": [],
   "source": [
    "%matplotlib inline\n",
    "import pandas as pd\n",
    "import numpy as np\n",
    "import matplotlib.pyplot as plt\n",
    "import seaborn as sns\n",
    "\n",
    "plt.style.use('ggplot')\n",
    "\n",
    "from sklearn.metrics import confusion_matrix\n",
    "from sklearn import metrics\n",
    "from sklearn.metrics import classification_report\n",
    "\n",
    "class Util:\n",
    "        \n",
    "    def report_classification(model, df_train, df_test, X_features, y_feature):\n",
    "        \n",
    "        classes_train = np.unique(df_train[y_feature].values).tolist()\n",
    "        classes_test = np.unique(df_test[y_feature].values).tolist()\n",
    "        \n",
    "        assert (classes_train == classes_test)\n",
    "        \n",
    "        classes = classes_train # The order of class is important!\n",
    "        \n",
    "        X_train = df_train[X_features].values.tolist()\n",
    "        X_test = df_test[X_features].values.tolist()\n",
    "        \n",
    "        y_train = df_train[y_feature].values.tolist()\n",
    "        y_test = df_test[y_feature].values.tolist()\n",
    "        \n",
    "        y_train_pred = model.predict(X_train)\n",
    "        y_test_pred = model.predict(X_test)\n",
    "\n",
    "        report_cm(y_train, y_test, y_train_pred, y_test_pred, classes)\n",
    "        \n",
    "    def report_cm(y_train, y_test, y_train_pred, y_test_pred, classes):\n",
    "        figure, axes = plt.subplots(1, 2, figsize=(10,5))\n",
    "\n",
    "        cm_test = confusion_matrix(y_test, y_test_pred)\n",
    "        df_cm_test = pd.DataFrame(cm_test, index = classes, columns = classes)\n",
    "        ax = sns.heatmap(df_cm_test, annot=True, ax = axes[0], square= True)\n",
    "        ax.set_title('Test CM')\n",
    "\n",
    "        cm_train = confusion_matrix(y_train, y_train_pred)\n",
    "        df_cm_train = pd.DataFrame(cm_train, index = classes, columns = classes)\n",
    "        ax = sns.heatmap(df_cm_train, annot=True, ax = axes[1], square= True)\n",
    "        ax.set_title('Train CM')\n",
    "\n",
    "        print('-' * 20 + 'Testing Performance' + '-' * 20)\n",
    "        print(classification_report(y_test, y_test_pred, target_names = classes))\n",
    "        print('acc: ', metrics.accuracy_score(y_test, y_test_pred))\n",
    "\n",
    "        print('-' * 20 + 'Training Performance' + '-' * 20)\n",
    "        print(classification_report(y_train, y_train_pred, target_names = classes))\n",
    "        print('acc: ', metrics.accuracy_score(y_train, y_train_pred))"
   ]
  },
  {
   "cell_type": "markdown",
   "metadata": {},
   "source": [
    "# Testing SparkContext"
   ]
  },
  {
   "cell_type": "code",
   "execution_count": 1,
   "metadata": {},
   "outputs": [
    {
     "data": {
      "text/plain": [
       "[472, 780, 510, 599, 708]"
      ]
     },
     "execution_count": 1,
     "metadata": {},
     "output_type": "execute_result"
    }
   ],
   "source": [
    "import pyspark\n",
    "sc = pyspark.SparkContext('local[*]')\n",
    "\n",
    "# do something to prove it works\n",
    "rdd = sc.parallelize(range(1000))\n",
    "rdd.takeSample(False, 5)"
   ]
  },
  {
   "cell_type": "code",
   "execution_count": 152,
   "metadata": {
    "collapsed": true,
    "scrolled": true
   },
   "outputs": [],
   "source": [
    "# # !cat /opt/conda/LICENSE.txt\n",
    "\n",
    "# RDDread = sc.textFile (\"/opt/conda/LICENSE.txt\")\n",
    "# RDDread.collect()\n",
    "# RDDread.first()\n",
    "# RDDread.sample(True, 0.33).collect()"
   ]
  },
  {
   "cell_type": "markdown",
   "metadata": {},
   "source": [
    "# Generating Binary Classification Data using sklearn"
   ]
  },
  {
   "cell_type": "code",
   "execution_count": 4,
   "metadata": {
    "collapsed": true
   },
   "outputs": [],
   "source": [
    "import matplotlib.pyplot as plt\n",
    "import pandas as pd\n",
    "\n",
    "from sklearn.datasets import make_classification\n",
    "from sklearn.datasets import make_blobs\n",
    "from sklearn.datasets import make_gaussian_quantiles\n",
    "\n",
    "X1, Y1 = make_classification(n_features=10,\n",
    "                             n_redundant=0, \n",
    "                             n_informative=1,\n",
    "                             n_clusters_per_class=1)\n",
    "\n",
    "df = pd.DataFrame(X1, columns=['c0', 'c1', 'c2', 'c3', 'c4', 'c5', 'c6', 'c7', 'c8', 'c9'])\n",
    "df['label'] = Y1"
   ]
  },
  {
   "cell_type": "code",
   "execution_count": 6,
   "metadata": {},
   "outputs": [
    {
     "data": {
      "text/html": [
       "<div>\n",
       "<table border=\"1\" class=\"dataframe\">\n",
       "  <thead>\n",
       "    <tr style=\"text-align: right;\">\n",
       "      <th></th>\n",
       "      <th>c0</th>\n",
       "      <th>c1</th>\n",
       "      <th>c2</th>\n",
       "      <th>c3</th>\n",
       "      <th>c4</th>\n",
       "      <th>c5</th>\n",
       "      <th>c6</th>\n",
       "      <th>c7</th>\n",
       "      <th>c8</th>\n",
       "      <th>c9</th>\n",
       "      <th>label</th>\n",
       "    </tr>\n",
       "  </thead>\n",
       "  <tbody>\n",
       "    <tr>\n",
       "      <th>0</th>\n",
       "      <td>-0.581891</td>\n",
       "      <td>0.064288</td>\n",
       "      <td>-0.276192</td>\n",
       "      <td>0.671815</td>\n",
       "      <td>1.092010</td>\n",
       "      <td>-0.656808</td>\n",
       "      <td>-0.773232</td>\n",
       "      <td>1.776485</td>\n",
       "      <td>0.927137</td>\n",
       "      <td>-0.424455</td>\n",
       "      <td>1</td>\n",
       "    </tr>\n",
       "    <tr>\n",
       "      <th>1</th>\n",
       "      <td>-2.132830</td>\n",
       "      <td>1.352996</td>\n",
       "      <td>-0.264884</td>\n",
       "      <td>0.427542</td>\n",
       "      <td>-1.145800</td>\n",
       "      <td>1.287350</td>\n",
       "      <td>0.115010</td>\n",
       "      <td>0.967241</td>\n",
       "      <td>-0.931218</td>\n",
       "      <td>0.524528</td>\n",
       "      <td>0</td>\n",
       "    </tr>\n",
       "    <tr>\n",
       "      <th>2</th>\n",
       "      <td>-0.566897</td>\n",
       "      <td>0.823943</td>\n",
       "      <td>-0.054130</td>\n",
       "      <td>-1.285589</td>\n",
       "      <td>1.033042</td>\n",
       "      <td>-1.972572</td>\n",
       "      <td>0.023378</td>\n",
       "      <td>-0.302108</td>\n",
       "      <td>-0.537940</td>\n",
       "      <td>-0.217850</td>\n",
       "      <td>1</td>\n",
       "    </tr>\n",
       "    <tr>\n",
       "      <th>3</th>\n",
       "      <td>0.926738</td>\n",
       "      <td>-0.286408</td>\n",
       "      <td>-0.552817</td>\n",
       "      <td>0.201282</td>\n",
       "      <td>-1.417041</td>\n",
       "      <td>0.321418</td>\n",
       "      <td>-0.601766</td>\n",
       "      <td>0.091164</td>\n",
       "      <td>0.479665</td>\n",
       "      <td>1.724932</td>\n",
       "      <td>0</td>\n",
       "    </tr>\n",
       "    <tr>\n",
       "      <th>4</th>\n",
       "      <td>-0.658663</td>\n",
       "      <td>-0.418822</td>\n",
       "      <td>0.416966</td>\n",
       "      <td>-1.487653</td>\n",
       "      <td>0.827320</td>\n",
       "      <td>0.549552</td>\n",
       "      <td>-0.185313</td>\n",
       "      <td>0.708085</td>\n",
       "      <td>-0.833843</td>\n",
       "      <td>0.612576</td>\n",
       "      <td>1</td>\n",
       "    </tr>\n",
       "  </tbody>\n",
       "</table>\n",
       "</div>"
      ],
      "text/plain": [
       "         c0        c1        c2        c3        c4        c5        c6  \\\n",
       "0 -0.581891  0.064288 -0.276192  0.671815  1.092010 -0.656808 -0.773232   \n",
       "1 -2.132830  1.352996 -0.264884  0.427542 -1.145800  1.287350  0.115010   \n",
       "2 -0.566897  0.823943 -0.054130 -1.285589  1.033042 -1.972572  0.023378   \n",
       "3  0.926738 -0.286408 -0.552817  0.201282 -1.417041  0.321418 -0.601766   \n",
       "4 -0.658663 -0.418822  0.416966 -1.487653  0.827320  0.549552 -0.185313   \n",
       "\n",
       "         c7        c8        c9  label  \n",
       "0  1.776485  0.927137 -0.424455      1  \n",
       "1  0.967241 -0.931218  0.524528      0  \n",
       "2 -0.302108 -0.537940 -0.217850      1  \n",
       "3  0.091164  0.479665  1.724932      0  \n",
       "4  0.708085 -0.833843  0.612576      1  "
      ]
     },
     "execution_count": 6,
     "metadata": {},
     "output_type": "execute_result"
    }
   ],
   "source": [
    "df.head()"
   ]
  },
  {
   "cell_type": "markdown",
   "metadata": {},
   "source": [
    "# Saving Data as a csv file to Create Spark Dataframe"
   ]
  },
  {
   "cell_type": "code",
   "execution_count": 9,
   "metadata": {
    "collapsed": true
   },
   "outputs": [],
   "source": [
    "df.to_csv('gen.csv', index=False)"
   ]
  },
  {
   "cell_type": "code",
   "execution_count": 51,
   "metadata": {
    "collapsed": true
   },
   "outputs": [],
   "source": [
    "# import csv\n",
    "# rdd = sc.textFile(\"gen.csv\")\n",
    "# rdd = rdd.mapPartitions(lambda x: csv.reader(x))\n",
    "# rdd.map(lambda x : float(x[0])).take(5)\n",
    "# rdd.take(1)\n",
    "# df = rdd.toDF(rdd.first())"
   ]
  },
  {
   "cell_type": "markdown",
   "metadata": {},
   "source": [
    "# Creating a SparkSession"
   ]
  },
  {
   "cell_type": "code",
   "execution_count": 4,
   "metadata": {
    "collapsed": true
   },
   "outputs": [],
   "source": [
    "# https://spark.apache.org/docs/latest/sql-programming-guide.html#sql\n",
    "\n",
    "from pyspark.sql import SparkSession\n",
    "\n",
    "spark = SparkSession \\\n",
    "    .builder \\\n",
    "    .appName(\"TestApp\") \\\n",
    "    .config(\"spark.some.config.option\", \"some-value\") \\\n",
    "    .getOrCreate()"
   ]
  },
  {
   "cell_type": "markdown",
   "metadata": {},
   "source": [
    "# Loading csv file using SparkContext"
   ]
  },
  {
   "cell_type": "code",
   "execution_count": 5,
   "metadata": {
    "collapsed": true
   },
   "outputs": [],
   "source": [
    "df = spark.read.format('com.databricks.spark.csv').options(header='true', inferschema='true').load('gen.csv')\n",
    "\n",
    "df.cache()\n",
    "# Register the DataFrame as a SQL temporary view\n",
    "df.createOrReplaceTempView(\"gen\")"
   ]
  },
  {
   "cell_type": "code",
   "execution_count": 12,
   "metadata": {},
   "outputs": [
    {
     "name": "stdout",
     "output_type": "stream",
     "text": [
      "root\n",
      " |-- c0: double (nullable = true)\n",
      " |-- c1: double (nullable = true)\n",
      " |-- c2: double (nullable = true)\n",
      " |-- c3: double (nullable = true)\n",
      " |-- c4: double (nullable = true)\n",
      " |-- c5: double (nullable = true)\n",
      " |-- c6: double (nullable = true)\n",
      " |-- c7: double (nullable = true)\n",
      " |-- c8: double (nullable = true)\n",
      " |-- c9: double (nullable = true)\n",
      " |-- label: integer (nullable = true)\n",
      "\n"
     ]
    }
   ],
   "source": [
    "df.printSchema()"
   ]
  },
  {
   "cell_type": "code",
   "execution_count": 13,
   "metadata": {},
   "outputs": [
    {
     "name": "stdout",
     "output_type": "stream",
     "text": [
      "+--------------------+--------------------+--------------------+-------------------+--------------------+-------------------+-------------------+--------------------+-------------------+--------------------+-----+\n",
      "|                  c0|                  c1|                  c2|                 c3|                  c4|                 c5|                 c6|                  c7|                 c8|                  c9|label|\n",
      "+--------------------+--------------------+--------------------+-------------------+--------------------+-------------------+-------------------+--------------------+-------------------+--------------------+-----+\n",
      "| -0.5818906172019618| 0.06428818034683818| -0.2761923630683961| 0.6718147593887743|  1.0920095988722633|-0.6568081717744917| -0.773231768127305|  1.7764854943968649| 0.9271374696145964| -0.4244546552314705|    1|\n",
      "| -2.1328297811774832|  1.3529960238222913|-0.26488382717008113| 0.4275415782422321| -1.1457996293525423| 1.2873501140005958|0.11501049749712955|  0.9672409929929762|-0.9312181098710113|  0.5245282617771482|    0|\n",
      "| -0.5668967878439948|  0.8239433756074305|-0.05412970908830194|-1.2855890670772407|  1.0330423502861812| -1.972572187311033|0.02337762137029659|-0.30210813833322847|-0.5379400020257199|-0.21785008699633351|    1|\n",
      "|  0.9267380980974851|-0.28640791884465433| -0.5528172593280584|0.20128220867643987|   -1.41704111558412|0.32141781983319273|-0.6017664446283723| 0.09116388001574129| 0.4796651282350716|  1.7249319690637592|    0|\n",
      "| -0.6586628341664812|-0.41882244233434707| 0.41696583246798496| -1.487653109293378|  0.8273195697329444| 0.5495522041812949|-0.1853129046753318|  0.7080848810720778| -0.833842608955726|  0.6125759258554863|    1|\n",
      "| 0.26270680319776346| 0.46694035107555604|  0.6301825369829871| -0.860906453460418|-0.24299179152893569|   1.86000484860047| 0.4124515846171261|  0.0603721581999865|0.17840318816697837|  0.6592441750337354|    0|\n",
      "| -1.8490741477864192| -0.1333900423239349|-0.11660103357772732| 1.6910499532589505| -0.3392041729788693|0.11195181211350581|-0.3398797004483011|  0.5898533986177664|-0.9309679424089946| -0.2765078895479712|    0|\n",
      "| -2.0059958273414034|-0.22555212792472606| -2.6058858960599665|0.43222752417895227|  1.1502830426552233| -0.741111901425589| -0.518329990217434|-0.48840612416530305|-0.5751315255762424| -0.5582669529463834|    1|\n",
      "|-0.12326866289641163|  0.5051677662811811| 0.08108494521816095|  1.598776796698159| -1.9002485317450968| 0.5280809211027077| -0.675090522231222| 0.08516911342828772|0.39624964926279543| -1.3514917285329373|    0|\n",
      "| -1.2764665813714955|  0.8166794745011788|   -0.44886581799793|-0.7239199498927736|  1.0327044197233655|-0.1904722581083792| 2.7141093249854142|  0.4636061753764401|0.22994219582976402|  1.4364978457947812|    1|\n",
      "+--------------------+--------------------+--------------------+-------------------+--------------------+-------------------+-------------------+--------------------+-------------------+--------------------+-----+\n",
      "only showing top 10 rows\n",
      "\n"
     ]
    },
    {
     "data": {
      "text/plain": [
       "None"
      ]
     },
     "metadata": {},
     "output_type": "display_data"
    }
   ],
   "source": [
    "display(df.show(10))"
   ]
  },
  {
   "cell_type": "code",
   "execution_count": 176,
   "metadata": {},
   "outputs": [
    {
     "data": {
      "text/plain": [
       "['c0', 'c1', 'c2', 'c3', 'c4', 'c5', 'c6', 'c7', 'c8', 'c9', 'label']"
      ]
     },
     "metadata": {},
     "output_type": "display_data"
    },
    {
     "data": {
      "text/plain": [
       "[('c0', 'double'),\n",
       " ('c1', 'double'),\n",
       " ('c2', 'double'),\n",
       " ('c3', 'double'),\n",
       " ('c4', 'double'),\n",
       " ('c5', 'double'),\n",
       " ('c6', 'double'),\n",
       " ('c7', 'double'),\n",
       " ('c8', 'double'),\n",
       " ('c9', 'double'),\n",
       " ('label', 'int')]"
      ]
     },
     "metadata": {},
     "output_type": "display_data"
    },
    {
     "data": {
      "text/plain": [
       "29"
      ]
     },
     "execution_count": 176,
     "metadata": {},
     "output_type": "execute_result"
    }
   ],
   "source": [
    "display(df.columns)\n",
    "display(df.dtypes)\n",
    "df.sample(False, 0.3).count()"
   ]
  },
  {
   "cell_type": "markdown",
   "metadata": {},
   "source": [
    "# Run Simple SQL using SparkContext"
   ]
  },
  {
   "cell_type": "code",
   "execution_count": 6,
   "metadata": {
    "scrolled": true
   },
   "outputs": [
    {
     "name": "stdout",
     "output_type": "stream",
     "text": [
      "+--------------------+-----+\n",
      "|                  c1|label|\n",
      "+--------------------+-----+\n",
      "| 0.06428818034683818|    1|\n",
      "|  1.3529960238222913|    0|\n",
      "|  0.8239433756074305|    1|\n",
      "|-0.28640791884465433|    0|\n",
      "|-0.41882244233434707|    1|\n",
      "| 0.46694035107555604|    0|\n",
      "| -0.1333900423239349|    0|\n",
      "|-0.22555212792472606|    1|\n",
      "|  0.5051677662811811|    0|\n",
      "|  0.8166794745011788|    1|\n",
      "+--------------------+-----+\n",
      "only showing top 10 rows\n",
      "\n"
     ]
    },
    {
     "data": {
      "text/plain": [
       "[(0.06428818034683818, 1),\n",
       " (1.3529960238222913, 0),\n",
       " (0.8239433756074305, 1),\n",
       " (-0.28640791884465433, 0),\n",
       " (-0.41882244233434707, 1),\n",
       " (0.46694035107555604, 0),\n",
       " (-0.1333900423239349, 0),\n",
       " (-0.22555212792472606, 1),\n",
       " (0.5051677662811811, 0),\n",
       " (0.8166794745011788, 1),\n",
       " (-0.13272954993281647, 0),\n",
       " (0.03153938761529191, 1),\n",
       " (-0.6866031297548427, 1),\n",
       " (1.0967836176497179, 0),\n",
       " (1.0054612530350273, 1),\n",
       " (1.3001850807334896, 0),\n",
       " (-0.6795394749289622, 0),\n",
       " (1.4097054742972168, 0),\n",
       " (-0.6659808992622139, 0),\n",
       " (0.5232745995878693, 1),\n",
       " (0.13039370231405742, 0),\n",
       " (-0.3442160867877221, 0),\n",
       " (-0.2058430589149328, 0),\n",
       " (1.8158952412146447, 1),\n",
       " (-0.46970924421213306, 0),\n",
       " (-0.8548799464679143, 1),\n",
       " (-1.1495712377429472, 1),\n",
       " (0.1058375828979097, 1),\n",
       " (0.5976307224713343, 1),\n",
       " (-1.7543729612604253, 1),\n",
       " (-1.5297508788661296, 1),\n",
       " (-1.1717775197847766, 0),\n",
       " (-0.7237153197266217, 1),\n",
       " (1.074461857166102, 1),\n",
       " (0.0086594192939135, 1),\n",
       " (-0.5892380768249048, 0),\n",
       " (-1.4560898793026924, 0),\n",
       " (1.1823939404796393, 1),\n",
       " (-0.08021071179156003, 1),\n",
       " (0.2781777425862949, 1),\n",
       " (0.2829712889822183, 0),\n",
       " (2.2197689554661877, 0),\n",
       " (0.09075529938023236, 0),\n",
       " (0.1316133444038167, 0),\n",
       " (-0.6968164701736839, 0),\n",
       " (-0.4885856613362935, 1),\n",
       " (0.4812937196999528, 0),\n",
       " (1.0604915207005312, 1),\n",
       " (2.280418608982429, 1),\n",
       " (-0.2571714784940396, 1),\n",
       " (0.11835635783037327, 1),\n",
       " (0.953966371574829, 0),\n",
       " (-1.261043113044343, 1),\n",
       " (-0.9746357026266477, 0),\n",
       " (-2.4592816020671187, 0),\n",
       " (-0.6696689268114607, 0),\n",
       " (0.2673084760850625, 0),\n",
       " (-0.22377383891421906, 0),\n",
       " (0.4801468527676887, 1),\n",
       " (-1.9197970218087448, 0),\n",
       " (1.7824859506009527, 0),\n",
       " (-0.20125008767573974, 0),\n",
       " (-0.5635493489596015, 1),\n",
       " (-1.1919998982910485, 0),\n",
       " (-1.5200327289763937, 1),\n",
       " (-1.2597041308078833, 1),\n",
       " (-0.3323911117633173, 0),\n",
       " (-0.21701447126619577, 0),\n",
       " (-1.1320091333280982, 1),\n",
       " (0.26380434487394644, 1),\n",
       " (-1.1576242092458424, 0),\n",
       " (-0.32340914067152493, 1),\n",
       " (-0.8190554787752983, 0),\n",
       " (-0.27884491458489696, 1),\n",
       " (-0.7164650820244339, 1),\n",
       " (-0.396796167772885, 1),\n",
       " (-1.3605983478227686, 0),\n",
       " (0.07540423110962563, 1),\n",
       " (1.0397437304127766, 0),\n",
       " (0.03343327718140015, 1),\n",
       " (-0.20411520013101508, 1),\n",
       " (-0.0008908378997140914, 1),\n",
       " (-1.1608505233497781, 0),\n",
       " (-0.566023080934193, 0),\n",
       " (-0.09620601787108744, 1),\n",
       " (0.5663467227873995, 1),\n",
       " (-0.026182373466608694, 0),\n",
       " (-0.18429720299268615, 0),\n",
       " (0.9660233397596328, 0),\n",
       " (-0.32981296791112513, 1),\n",
       " (0.8596599846966521, 0),\n",
       " (1.421038681573694, 1),\n",
       " (1.1701166629555297, 0),\n",
       " (-0.10446170335296306, 1),\n",
       " (-0.1687627851350876, 0),\n",
       " (0.017317072958511204, 1),\n",
       " (0.888803155795129, 0),\n",
       " (0.8252008763148952, 1),\n",
       " (-0.7591792005827408, 0),\n",
       " (0.5331071974681983, 1)]"
      ]
     },
     "execution_count": 6,
     "metadata": {},
     "output_type": "execute_result"
    }
   ],
   "source": [
    "# from pyspark.sql import SQLContext\n",
    "# sqlContext = SQLContext(sc)\n",
    "# sqlContext.sql(\"SELECT c1, label FROM gen\") # or df.select([c1, label])\n",
    "\n",
    "sqlDF = spark.sql(\"SELECT c1, label FROM gen\") # or df.select([c1, label])\n",
    "sqlDF.show(10)\n",
    "\n",
    "c1 = list(map(lambda r : r['c1'], sqlDF.collect()))\n",
    "label = list(map(lambda r : r['label'], sqlDF.collect()))\n",
    "list(zip(c1, label))"
   ]
  },
  {
   "cell_type": "markdown",
   "metadata": {},
   "source": [
    "# Projection"
   ]
  },
  {
   "cell_type": "code",
   "execution_count": 16,
   "metadata": {},
   "outputs": [
    {
     "name": "stdout",
     "output_type": "stream",
     "text": [
      "+--------------------+\n",
      "|                  c1|\n",
      "+--------------------+\n",
      "| 0.06428818034683818|\n",
      "|  1.3529960238222913|\n",
      "|  0.8239433756074305|\n",
      "|-0.28640791884465433|\n",
      "|-0.41882244233434707|\n",
      "| 0.46694035107555604|\n",
      "| -0.1333900423239349|\n",
      "|-0.22555212792472606|\n",
      "|  0.5051677662811811|\n",
      "|  0.8166794745011788|\n",
      "+--------------------+\n",
      "only showing top 10 rows\n",
      "\n",
      "+-----+\n",
      "|label|\n",
      "+-----+\n",
      "|    1|\n",
      "|    0|\n",
      "|    1|\n",
      "|    0|\n",
      "|    1|\n",
      "|    0|\n",
      "|    0|\n",
      "|    1|\n",
      "|    0|\n",
      "|    1|\n",
      "+-----+\n",
      "only showing top 10 rows\n",
      "\n"
     ]
    }
   ],
   "source": [
    "df.select(\"c1\").show(10)\n",
    "df.select(['label']).show(10)"
   ]
  },
  {
   "cell_type": "markdown",
   "metadata": {},
   "source": [
    "# Filtering"
   ]
  },
  {
   "cell_type": "code",
   "execution_count": 17,
   "metadata": {},
   "outputs": [
    {
     "name": "stdout",
     "output_type": "stream",
     "text": [
      "+-------------------+--------------------+\n",
      "|                 c1|                  c2|\n",
      "+-------------------+--------------------+\n",
      "|0.06428818034683818| -0.2761923630683961|\n",
      "| 1.3529960238222913|-0.26488382717008113|\n",
      "| 0.8239433756074305|-0.05412970908830194|\n",
      "|0.46694035107555604|  0.6301825369829871|\n",
      "| 0.5051677662811811| 0.08108494521816095|\n",
      "| 0.8166794745011788|   -0.44886581799793|\n",
      "|0.03153938761529191|  0.9819524616870424|\n",
      "| 1.0967836176497179|  1.5357818984553249|\n",
      "| 1.0054612530350273| -1.1415938294150696|\n",
      "| 1.3001850807334896|  -2.261616072256548|\n",
      "+-------------------+--------------------+\n",
      "only showing top 10 rows\n",
      "\n"
     ]
    }
   ],
   "source": [
    "df.filter(df['c1'] > 0).select(['c1', 'c2']).show(10)"
   ]
  },
  {
   "cell_type": "markdown",
   "metadata": {},
   "source": [
    "# Spark Datafram to Pandas Dataframe"
   ]
  },
  {
   "cell_type": "code",
   "execution_count": 15,
   "metadata": {},
   "outputs": [
    {
     "data": {
      "text/html": [
       "<div>\n",
       "<table border=\"1\" class=\"dataframe\">\n",
       "  <thead>\n",
       "    <tr style=\"text-align: right;\">\n",
       "      <th></th>\n",
       "      <th>c1</th>\n",
       "      <th>label</th>\n",
       "    </tr>\n",
       "  </thead>\n",
       "  <tbody>\n",
       "    <tr>\n",
       "      <th>0</th>\n",
       "      <td>0.064288</td>\n",
       "      <td>1</td>\n",
       "    </tr>\n",
       "    <tr>\n",
       "      <th>1</th>\n",
       "      <td>1.352996</td>\n",
       "      <td>0</td>\n",
       "    </tr>\n",
       "    <tr>\n",
       "      <th>2</th>\n",
       "      <td>0.823943</td>\n",
       "      <td>1</td>\n",
       "    </tr>\n",
       "    <tr>\n",
       "      <th>3</th>\n",
       "      <td>-0.286408</td>\n",
       "      <td>0</td>\n",
       "    </tr>\n",
       "    <tr>\n",
       "      <th>4</th>\n",
       "      <td>-0.418822</td>\n",
       "      <td>1</td>\n",
       "    </tr>\n",
       "    <tr>\n",
       "      <th>5</th>\n",
       "      <td>0.466940</td>\n",
       "      <td>0</td>\n",
       "    </tr>\n",
       "    <tr>\n",
       "      <th>6</th>\n",
       "      <td>-0.133390</td>\n",
       "      <td>0</td>\n",
       "    </tr>\n",
       "    <tr>\n",
       "      <th>7</th>\n",
       "      <td>-0.225552</td>\n",
       "      <td>1</td>\n",
       "    </tr>\n",
       "    <tr>\n",
       "      <th>8</th>\n",
       "      <td>0.505168</td>\n",
       "      <td>0</td>\n",
       "    </tr>\n",
       "    <tr>\n",
       "      <th>9</th>\n",
       "      <td>0.816679</td>\n",
       "      <td>1</td>\n",
       "    </tr>\n",
       "  </tbody>\n",
       "</table>\n",
       "</div>"
      ],
      "text/plain": [
       "         c1  label\n",
       "0  0.064288      1\n",
       "1  1.352996      0\n",
       "2  0.823943      1\n",
       "3 -0.286408      0\n",
       "4 -0.418822      1\n",
       "5  0.466940      0\n",
       "6 -0.133390      0\n",
       "7 -0.225552      1\n",
       "8  0.505168      0\n",
       "9  0.816679      1"
      ]
     },
     "execution_count": 15,
     "metadata": {},
     "output_type": "execute_result"
    }
   ],
   "source": [
    "sqlDF.toPandas().head(10)"
   ]
  },
  {
   "cell_type": "markdown",
   "metadata": {},
   "source": [
    "# Creating VectorAssembler"
   ]
  },
  {
   "cell_type": "code",
   "execution_count": 20,
   "metadata": {
    "collapsed": true
   },
   "outputs": [],
   "source": [
    "# https://spark.apache.org/docs/latest/api/python/pyspark.ml.html#pyspark.ml.feature.VectorAssembler\n",
    "from pyspark.ml.feature import VectorAssembler\n",
    "\n",
    "vecAssembler = VectorAssembler(inputCols=['c0', 'c1', 'c2', \n",
    "                                          'c3', 'c4', 'c5', \n",
    "                                          'c6', 'c7', 'c8', 'c9'], outputCol=\"va\")"
   ]
  },
  {
   "cell_type": "code",
   "execution_count": null,
   "metadata": {
    "collapsed": true
   },
   "outputs": [],
   "source": [
    "from pyspark.ml import Pipeline\n",
    "from pyspark.ml.feature import VectorAssembler\n",
    "\n",
    "from pyspark.ml.classification import RandomForestClassifier\n",
    "from pyspark.ml.tuning import CrossValidator,  TrainValidationSplit, ParamGridBuilder\n",
    "from pyspark.ml.evaluation import MulticlassClassificationEvaluator"
   ]
  },
  {
   "cell_type": "markdown",
   "metadata": {},
   "source": [
    "# Splitting Data Into Train and Test"
   ]
  },
  {
   "cell_type": "code",
   "execution_count": 21,
   "metadata": {
    "collapsed": true
   },
   "outputs": [],
   "source": [
    "(df_train, df_test) = df.randomSplit([0.7, 0.3])"
   ]
  },
  {
   "cell_type": "markdown",
   "metadata": {},
   "source": [
    "# Creating a Binary Classification MLlib Pipelines\n",
    "\n",
    "\n",
    "https://docs.databricks.com/spark/latest/mllib/binary-classification-mllib-pipelines.html\n"
   ]
  },
  {
   "cell_type": "markdown",
   "metadata": {},
   "source": [
    "# Creating PCA"
   ]
  },
  {
   "cell_type": "code",
   "execution_count": 19,
   "metadata": {
    "collapsed": true
   },
   "outputs": [],
   "source": [
    "from pyspark.ml.feature import PCA\n",
    "\n",
    "pca = PCA(k=5, inputCol=\"va\", outputCol=\"features\")"
   ]
  },
  {
   "cell_type": "markdown",
   "metadata": {},
   "source": [
    "# Creating a Random Forest Classifier"
   ]
  },
  {
   "cell_type": "code",
   "execution_count": 24,
   "metadata": {
    "collapsed": true
   },
   "outputs": [],
   "source": [
    "# # https://spark.apache.org/docs/latest/mllib-ensembles.html#random-forests\n",
    "from pyspark.ml.classification import RandomForestClassifier\n",
    "\n",
    "rf = RandomForestClassifier(labelCol=\"label\", featuresCol=\"features\")"
   ]
  },
  {
   "cell_type": "markdown",
   "metadata": {},
   "source": [
    "# Creating a Multiclass Classification Evaluator"
   ]
  },
  {
   "cell_type": "code",
   "execution_count": 25,
   "metadata": {
    "collapsed": true
   },
   "outputs": [],
   "source": [
    "from pyspark.ml.evaluation import MulticlassClassificationEvaluator\n",
    "\n",
    "evaluator = MulticlassClassificationEvaluator() # + other params as in Scala    "
   ]
  },
  {
   "cell_type": "markdown",
   "metadata": {},
   "source": [
    "# Creating  a Pipeline"
   ]
  },
  {
   "cell_type": "code",
   "execution_count": 26,
   "metadata": {
    "collapsed": true
   },
   "outputs": [],
   "source": [
    "from pyspark.ml import Pipeline\n",
    "\n",
    "pipeline = Pipeline(stages=[vecAssembler, pca, rf])"
   ]
  },
  {
   "cell_type": "markdown",
   "metadata": {},
   "source": [
    "# Creating Grid Search Configuration "
   ]
  },
  {
   "cell_type": "code",
   "execution_count": 27,
   "metadata": {
    "collapsed": true
   },
   "outputs": [],
   "source": [
    "from pyspark.ml.tuning import CrossValidator, TrainValidationSplit, ParamGridBuilder\n",
    "\n",
    "paramGrid = (ParamGridBuilder()\n",
    "             .addGrid(rf.maxDepth, [2, 4, 6])\n",
    "             .addGrid(rf.maxBins, [20, 60])\n",
    "             .addGrid(rf.numTrees, [5, 20])\n",
    "             .addGrid(rf.impurity, ['gini', 'entropy'])\n",
    "             .build())\n",
    "\n",
    "def get_validation(by='cv'):\n",
    "    if by is 'cv':\n",
    "        return CrossValidator(\n",
    "            estimator=pipeline,\n",
    "            estimatorParamMaps=paramGrid,\n",
    "            evaluator=evaluator,\n",
    "            numFolds=10)\n",
    "    \n",
    "    elif by is 'tvs':\n",
    "        return TrainValidationSplit(\n",
    "            estimator=pipeline,\n",
    "            estimatorParamMaps=paramGrid,\n",
    "            evaluator=evaluator,\n",
    "            # 80% of the data will be used for training, 20% for validation.\n",
    "            trainRatio=0.8)\n",
    "    else:\n",
    "        print('please, pick either cv or tvs')\n",
    "        return None\n",
    "    \n",
    "def evaluate(model, df_train, df_test):\n",
    "    train_pred = model.transform(df_train)\n",
    "    train_acc = evaluator.evaluate(train_pred)\n",
    "    \n",
    "    test_pred = model.transform(df_test)\n",
    "    test_acc = evaluator.evaluate(test_pred)\n",
    "    \n",
    "    print('train_acc: {}, test_acc: {}'.format(train_acc, test_acc))\n",
    "    \n",
    "    return train_pred, test_pred"
   ]
  },
  {
   "cell_type": "markdown",
   "metadata": {},
   "source": [
    "# Pick the Best Model by Applying 10Fold CV - CrossValidator"
   ]
  },
  {
   "cell_type": "code",
   "execution_count": 28,
   "metadata": {
    "collapsed": true
   },
   "outputs": [],
   "source": [
    "val = get_validation('cv')\n",
    "model_cv = val.fit(df_train)"
   ]
  },
  {
   "cell_type": "code",
   "execution_count": 43,
   "metadata": {},
   "outputs": [
    {
     "data": {
      "text/plain": [
       "0.920389208314905"
      ]
     },
     "execution_count": 43,
     "metadata": {},
     "output_type": "execute_result"
    }
   ],
   "source": [
    "bestModel = model_cv.bestModel\n",
    "finalPredictions = bestModel.transform(df_train)\n",
    "evaluator.evaluate(finalPredictions)"
   ]
  },
  {
   "cell_type": "markdown",
   "metadata": {},
   "source": [
    "# Evalution of Model - Accuracy"
   ]
  },
  {
   "cell_type": "code",
   "execution_count": 35,
   "metadata": {},
   "outputs": [
    {
     "name": "stdout",
     "output_type": "stream",
     "text": [
      "train_acc: 0.920389208314905, test_acc: 0.8333333333333333\n"
     ]
    }
   ],
   "source": [
    "train_pred, test_pred = evaluate(model_cv, df_train, df_test)"
   ]
  },
  {
   "cell_type": "markdown",
   "metadata": {},
   "source": [
    "# Evalution of Model - Precision - Recall"
   ]
  },
  {
   "cell_type": "code",
   "execution_count": 36,
   "metadata": {},
   "outputs": [
    {
     "name": "stdout",
     "output_type": "stream",
     "text": [
      "--------------------Testing Performance--------------------\n",
      "             precision    recall  f1-score   support\n",
      "\n",
      "          0       0.91      0.77      0.83        13\n",
      "          1       0.77      0.91      0.83        11\n",
      "\n",
      "avg / total       0.84      0.83      0.83        24\n",
      "\n",
      "acc:  0.833333333333\n",
      "--------------------Training Performance--------------------\n",
      "             precision    recall  f1-score   support\n",
      "\n",
      "          0       1.00      0.84      0.91        37\n",
      "          1       0.87      1.00      0.93        39\n",
      "\n",
      "avg / total       0.93      0.92      0.92        76\n",
      "\n",
      "acc:  0.921052631579\n"
     ]
    },
    {
     "data": {
      "image/png": "[encoded data removed]",
      "text/plain": [
       "<matplotlib.figure.Figure at 0x7fcd8ea89a58>"
      ]
     },
     "metadata": {},
     "output_type": "display_data"
    }
   ],
   "source": [
    "y_train = train_pred.select('label').toPandas().apply(lambda x : x[0], 1).values.tolist()\n",
    "y_train_pred = train_pred.select('prediction').toPandas().apply(lambda x : x[0], 1).values.tolist()\n",
    "\n",
    "y_test = test_pred.select('label').toPandas().apply(lambda x : x[0], 1).values.tolist()\n",
    "y_train_test = test_pred.select('prediction').toPandas().apply(lambda x : x[0], 1).values.tolist()\n",
    "\n",
    "Util.report_cm(y_train, y_test, y_train_pred, y_train_test, ['0', '1'])"
   ]
  },
  {
   "cell_type": "code",
   "execution_count": 37,
   "metadata": {},
   "outputs": [
    {
     "name": "stdout",
     "output_type": "stream",
     "text": [
      "+-----+----------+--------------------+\n",
      "|label|prediction|         probability|\n",
      "+-----+----------+--------------------+\n",
      "|    0|       1.0|[0.39902805706866...|\n",
      "|    1|       1.0|[0.39902805706866...|\n",
      "|    1|       1.0|[0.14080554606657...|\n",
      "|    0|       1.0|[0.25060901486788...|\n",
      "|    0|       0.0|[0.78641481823619...|\n",
      "|    1|       1.0|[0.12080554606657...|\n",
      "|    1|       1.0|[0.36123926448710...|\n",
      "|    1|       1.0|[0.21485143911031...|\n",
      "|    1|       1.0|[0.30760431515810...|\n",
      "|    1|       1.0|[0.41974234278295...|\n",
      "+-----+----------+--------------------+\n",
      "only showing top 10 rows\n",
      "\n"
     ]
    },
    {
     "data": {
      "text/plain": [
       "None"
      ]
     },
     "metadata": {},
     "output_type": "display_data"
    }
   ],
   "source": [
    "selected = train_pred.select(\"label\", \"prediction\", \"probability\")\n",
    "display(selected.show(10))"
   ]
  },
  {
   "cell_type": "markdown",
   "metadata": {},
   "source": [
    "# Pick the Best Model by Applying - TrainValidationSplit"
   ]
  },
  {
   "cell_type": "code",
   "execution_count": 30,
   "metadata": {
    "collapsed": true
   },
   "outputs": [],
   "source": [
    "val = get_validation('tvs')\n",
    "model_tsv = val.fit(df_train)"
   ]
  },
  {
   "cell_type": "code",
   "execution_count": 42,
   "metadata": {},
   "outputs": [
    {
     "data": {
      "text/plain": [
       "0.8802689339679313"
      ]
     },
     "execution_count": 42,
     "metadata": {},
     "output_type": "execute_result"
    }
   ],
   "source": [
    "bestModel = model_tsv.bestModel\n",
    "finalPredictions = bestModel.transform(df_train)\n",
    "evaluator.evaluate(finalPredictions)"
   ]
  },
  {
   "cell_type": "markdown",
   "metadata": {},
   "source": [
    "# Evalution of Model - Accuracy"
   ]
  },
  {
   "cell_type": "code",
   "execution_count": 32,
   "metadata": {},
   "outputs": [
    {
     "name": "stdout",
     "output_type": "stream",
     "text": [
      "train_acc: 0.8802689339679313, test_acc: 0.7905643738977073\n"
     ]
    }
   ],
   "source": [
    "train_pred, test_pred = evaluate(model_tsv, df_train, df_test)"
   ]
  },
  {
   "cell_type": "markdown",
   "metadata": {},
   "source": [
    "# Evalution of Model - Precision - Recall"
   ]
  },
  {
   "cell_type": "code",
   "execution_count": 33,
   "metadata": {},
   "outputs": [
    {
     "name": "stdout",
     "output_type": "stream",
     "text": [
      "--------------------Testing Performance--------------------\n",
      "             precision    recall  f1-score   support\n",
      "\n",
      "          0       0.79      0.85      0.81        13\n",
      "          1       0.80      0.73      0.76        11\n",
      "\n",
      "avg / total       0.79      0.79      0.79        24\n",
      "\n",
      "acc:  0.791666666667\n",
      "--------------------Training Performance--------------------\n",
      "             precision    recall  f1-score   support\n",
      "\n",
      "          0       0.97      0.78      0.87        37\n",
      "          1       0.83      0.97      0.89        39\n",
      "\n",
      "avg / total       0.89      0.88      0.88        76\n",
      "\n",
      "acc:  0.881578947368\n"
     ]
    },
    {
     "data": {
      "image/png": "[encoded data removed]",
      "text/plain": [
       "<matplotlib.figure.Figure at 0x7fcd8ff04278>"
      ]
     },
     "metadata": {},
     "output_type": "display_data"
    }
   ],
   "source": [
    "y_train = train_pred.select('label').toPandas().apply(lambda x : x[0], 1).values.tolist()\n",
    "y_train_pred = train_pred.select('prediction').toPandas().apply(lambda x : x[0], 1).values.tolist()\n",
    "\n",
    "y_test = test_pred.select('label').toPandas().apply(lambda x : x[0], 1).values.tolist()\n",
    "y_train_test = test_pred.select('prediction').toPandas().apply(lambda x : x[0], 1).values.tolist()\n",
    "\n",
    "Util.report_cm(y_train, y_test, y_train_pred, y_train_test, ['0', '1'])"
   ]
  },
  {
   "cell_type": "code",
   "execution_count": 34,
   "metadata": {},
   "outputs": [
    {
     "name": "stdout",
     "output_type": "stream",
     "text": [
      "+-----+----------+--------------------+\n",
      "|label|prediction|         probability|\n",
      "+-----+----------+--------------------+\n",
      "|    0|       1.0|[0.10307163080521...|\n",
      "|    1|       1.0|[0.24424810139344...|\n",
      "|    1|       1.0|[0.10307163080521...|\n",
      "|    0|       1.0|[0.24424810139344...|\n",
      "|    0|       0.0|[0.77546218487394...|\n",
      "|    1|       1.0|[0.24424810139344...|\n",
      "|    1|       1.0|[0.47536231884057...|\n",
      "|    1|       1.0|[0.24424810139344...|\n",
      "|    1|       1.0|[0.24424810139344...|\n",
      "|    1|       1.0|[0.24424810139344...|\n",
      "+-----+----------+--------------------+\n",
      "only showing top 10 rows\n",
      "\n"
     ]
    },
    {
     "data": {
      "text/plain": [
       "None"
      ]
     },
     "metadata": {},
     "output_type": "display_data"
    }
   ],
   "source": [
    "selected = train_pred.select(\"label\", \"prediction\", \"probability\")\n",
    "display(selected.show(10))"
   ]
  }
 ],
 "metadata": {
  "kernelspec": {
   "display_name": "Python 3",
   "language": "python",
   "name": "python3"
  },
  "language_info": {
   "codemirror_mode": {
    "name": "ipython",
    "version": 3
   },
   "file_extension": ".py",
   "mimetype": "text/x-python",
   "name": "python",
   "nbconvert_exporter": "python",
   "pygments_lexer": "ipython3",
   "version": "3.6.2"
  }
 },
 "nbformat": 4,
 "nbformat_minor": 2
}
